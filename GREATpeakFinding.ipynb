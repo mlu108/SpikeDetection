{
  "cells": [
    {
      "cell_type": "code",
      "source": [
        "!pip install pyEDFlib"
      ],
      "metadata": {
        "id": "NkKuAbACDgBx"
      },
      "execution_count": null,
      "outputs": []
    },
    {
      "cell_type": "code",
      "source": [
        "from pyedflib import highlevel\n",
        "import pyedflib as plib\n",
        "import numpy as np\n",
        "import matplotlib.pyplot as plt"
      ],
      "metadata": {
        "id": "BmjyjIPHFeiD"
      },
      "execution_count": null,
      "outputs": []
    },
    {
      "cell_type": "code",
      "source": [
        "# Then, you input the EDF file to be analyzed\n",
        "# Currently only works for one EEG channel"
      ],
      "metadata": {
        "id": "5e6nsNG4M6Xj"
      },
      "execution_count": null,
      "outputs": []
    },
    {
      "cell_type": "code",
      "source": [
        "from scipy.datasets import electrocardiogram\n",
        "from scipy.signal import find_peaks\n",
        "\n",
        "y = electrocardiogram()[1000:5000] #Essentially just an array of y values in order\n"
      ],
      "metadata": {
        "id": "kaRrh3eORLfZ"
      },
      "execution_count": null,
      "outputs": []
    },
    {
      "cell_type": "code",
      "source": [
        "path = \"252b.edf\"\n",
        "signals, signal_headers, header = highlevel.read_edf(path)"
      ],
      "metadata": {
        "id": "y2Ud8NyyFkNi"
      },
      "execution_count": null,
      "outputs": []
    },
    {
      "cell_type": "code",
      "source": [
        "print(max(signals[0])) # note the absolute maximum/min\n",
        "print(min(signals[0]))"
      ],
      "metadata": {
        "id": "zcHk9TTaFpU5"
      },
      "execution_count": null,
      "outputs": []
    },
    {
      "cell_type": "code",
      "source": [
        "len(signals[0]) # check what is the unit for x (we want it to be in milliseconds)"
      ],
      "metadata": {
        "id": "B8qLVXsMH1wC"
      },
      "execution_count": null,
      "outputs": []
    },
    {
      "cell_type": "markdown",
      "source": [],
      "metadata": {
        "id": "zOHDI3NVyFY2"
      }
    },
    {
      "cell_type": "code",
      "source": [
        "print(signals[0])"
      ],
      "metadata": {
        "id": "M1QOGedSCmDp"
      },
      "execution_count": null,
      "outputs": []
    },
    {
      "cell_type": "code",
      "source": [
        "y = signals[0] #Essentially just an array of y values in order\n",
        "#y = signals[0][0:800]"
      ],
      "metadata": {
        "id": "bRAAanVLKZ92"
      },
      "execution_count": null,
      "outputs": []
    },
    {
      "cell_type": "code",
      "execution_count": null,
      "metadata": {
        "id": "_UKItfzDDGje"
      },
      "outputs": [],
      "source": [
        "import numpy as np\n",
        "import numpy as np\n",
        "import matplotlib.pyplot as plt\n",
        "from scipy.datasets import electrocardiogram\n",
        "from scipy.signal import find_peaks\n",
        "\n",
        "import numpy as np\n",
        "import numpy as np\n",
        "import matplotlib.pyplot as plt\n",
        "from scipy.datasets import electrocardiogram\n",
        "from scipy.signal import find_peaks\n",
        "\n",
        "\n",
        "mean_y = np.mean(y)\n",
        "std_y = np.std(y)\n",
        "thresholds = [mean_y + 5 * std_y, mean_y - 5 * std_y]\n",
        "upward_peaks_x, upward_properties = find_peaks(y, height=[thresholds[0],150],width=2) #array\n",
        "downward_peaks_x, downward_properties = find_peaks(y, height=(-150,thresholds[1]),width=2)  #array\n",
        "#put the two arrays together, one by a corresponding one in order as a tuple\n",
        "upward_x_width = list(zip(upward_peaks_x, upward_properties['widths'])) #each one shold be (x value, width value, \"Up\")\n",
        "downward_x_width = list(zip(downward_peaks_x, downward_properties['widths'])) #each one shold be (x value, width value, \"Down\")\n",
        "upward_xwd = [(tu[0],tu[1],'Up') for tu in upward_x_width] #xwd = x, width, direction\n",
        "downward_xwd = [(tu[0],tu[1],'Down') for tu in downward_x_width]\n",
        "#concatenate the two list together and then sort by the first element in the tuple\n",
        "combined_xwd = upward_xwd + downward_xwd\n",
        "sorted_combined_x_width = sorted(combined_xwd, key=lambda x: x[0]) #(10,w1,\"Down\"),(20,w,\"Up\")...\n",
        "# Display the sorted combined list\n",
        "\n",
        "last_good_spike = -1000\n",
        "spikes = []\n",
        "ys = []\n",
        "for tu in sorted_combined_x_width:\n",
        "   # print(tu)\n",
        "    x, width,direction = tu[0],tu[1],tu[2]\n",
        "    if x-last_good_spike >=200 and width<=200 and width>= 5: #condition distance with last good peak and the total width of this single peak\n",
        "        start_x = x-width/2\n",
        "        end_x = x+width/2\n",
        "        thresholds_for_other_peak = [mean_y + 1 * std_y, mean_y - 1 * std_y] #TODO: change it to desired threshold\n",
        "        # print(f\"thresholds_for_other_peak:{thresholds_for_other_peak}\")\n",
        "        region_y = y[int(end_x)+1-100:int(start_x)+100]\n",
        "        #print(len(region_y))\n",
        "       # print(f\"region_y:{region_y}\")\n",
        "        other_peaks = []\n",
        "        if direction == 'Up': #then we want to find a downward peak\n",
        "            other_peaks,_ = find_peaks(region_y, height=(None,thresholds_for_other_peak[1]),width=2)\n",
        "        else:\n",
        "            other_peaks,_ = find_peaks(region_y, height= thresholds_for_other_peak[0],width=2)\n",
        "       # print(other_peaks)\n",
        "        if len(other_peaks)>0: #found specified peak\n",
        "          #  print(other_peaks)\n",
        "            spikes.append(x)\n",
        "            last_good_spike =x\n",
        "\n",
        "\n",
        "plt.plot(y)\n",
        "plt.plot(spikes, y[spikes], \"x\")\n",
        "plt.plot(np.zeros_like(y), \"--\", color=\"gray\")\n",
        "plt.show()"
      ]
    },
    {
      "cell_type": "code",
      "source": [
        "#5.25 Edited Ver.\n",
        "import numpy as np\n",
        "import numpy as np\n",
        "import matplotlib.pyplot as plt\n",
        "from scipy.datasets import electrocardiogram\n",
        "from scipy.signal import find_peaks\n",
        "\n",
        "import numpy as np\n",
        "import numpy as np\n",
        "import matplotlib.pyplot as plt\n",
        "from scipy.datasets import electrocardiogram\n",
        "from scipy.signal import find_peaks\n",
        "\n",
        "def calculate_width(y, x):\n",
        "    left_index = x\n",
        "    right_index = x\n",
        "    while left_index > 0 and y[left_index] > 0:\n",
        "        left_index -= 1\n",
        "    while right_index < len(y) - 1 and y[right_index] > 0:\n",
        "        right_index += 1\n",
        "    return left_index, right_index\n",
        "mean_y = np.mean(y)\n",
        "std_y = np.std(y)\n",
        "thresholds = [mean_y + 5 * std_y, mean_y - 5 * std_y]\n",
        "upward_peaks_x, upward_properties = find_peaks(y, height=[thresholds[0],150],width=2) #array\n",
        "downward_peaks_x, downward_properties = find_peaks(y, height=(-150,thresholds[1]),width=2)  #array\n",
        "#put the two arrays together, one by a corresponding one in order as a tuple\n",
        "upward_x_width = list(zip(upward_peaks_x, upward_properties['widths'])) #each one shold be (x value, width value, \"Up\")\n",
        "downward_x_width = list(zip(downward_peaks_x, downward_properties['widths'])) #each one shold be (x value, width value, \"Down\")\n",
        "upward_xwd = [(tu[0],tu[1],'Up') for tu in upward_x_width] #xwd = x, width, direction\n",
        "downward_xwd = [(tu[0],tu[1],'Down') for tu in downward_x_width]\n",
        "#concatenate the two list together and then sort by the first element in the tuple\n",
        "combined_xwd = upward_xwd + downward_xwd\n",
        "sorted_combined_x_width = sorted(combined_xwd, key=lambda x: x[0]) #(10,w1,\"Down\"),(20,w,\"Up\")...\n",
        "# Display the sorted combined list\n",
        "\n",
        "last_good_spike = -1000\n",
        "spikes = []\n",
        "ys = []\n",
        "for tu in sorted_combined_x_width:\n",
        "   # print(tu)\n",
        "    x, width,direction = tu[0],tu[1],tu[2]\n",
        "    if x-last_good_spike >=200:# and width<=200 and width>= 5: #condition distance with last good peak and the total width of this single peak\n",
        "        start_x,end_x = calculate_width(y,x)\n",
        "        #start_x = x-width/2\n",
        "        #end_x = x+width/2\n",
        "        thresholds_for_other_peak = [mean_y + 1 * std_y, mean_y - 1 * std_y] #TODO: change it to desired threshold\n",
        "        # print(f\"thresholds_for_other_peak:{thresholds_for_other_peak}\")\n",
        "        region_y = y[int(end_x)+1-100:int(start_x)+100]\n",
        "        #print(len(region_y))\n",
        "       # print(f\"region_y:{region_y}\")\n",
        "        other_peaks = []\n",
        "        if direction == 'Up': #then we want to find a downward peak\n",
        "            other_peaks,_ = find_peaks(region_y, height=(None,thresholds_for_other_peak[1]),width=2)\n",
        "        else:\n",
        "            other_peaks,_ = find_peaks(region_y, height= thresholds_for_other_peak[0],width=2)\n",
        "       # print(other_peaks)\n",
        "        if len(other_peaks)>0: #found specified peak\n",
        "          #  print(other_peaks)\n",
        "            spikes.append(x)\n",
        "            last_good_spike =x\n",
        "\n",
        "\n",
        "plt.plot(y)\n",
        "plt.plot(spikes, y[spikes], \"x\")\n",
        "plt.plot(np.zeros_like(y), \"--\", color=\"gray\")\n",
        "plt.show()"
      ],
      "metadata": {
        "id": "ms6FxfuJR-qy"
      },
      "execution_count": null,
      "outputs": []
    },
    {
      "cell_type": "code",
      "source": [
        "spikes_in_ms = [x / 2000 for x in spikes]\n",
        "\n",
        "spikes_in_ms"
      ],
      "metadata": {
        "id": "UEM_PkAUNyq-"
      },
      "execution_count": null,
      "outputs": []
    },
    {
      "cell_type": "code",
      "source": [
        "int_value = 7200000\n",
        "rng = [i for i in range(25)]\n",
        "inttotal = []\n",
        "spike_counts = []\n",
        "\n",
        "# Generate the intervals\n",
        "for n in rng:\n",
        "    steps = int_value * n\n",
        "    inttotal.append(steps)\n",
        "\n",
        "# Initialize an empty list to store the counts\n",
        "b = []\n",
        "\n",
        "# Loop through each interval\n",
        "for n in range(len(inttotal)):\n",
        "    # Reset the spike_counts for each interval\n",
        "    spike_counts = []\n",
        "    # Count spikes within the current interval\n",
        "    for i in spikes:\n",
        "        if i <= inttotal[n]:\n",
        "            spike_counts.append(i)\n",
        "    # Append the count of spikes in the current interval to the result array\n",
        "    b.append(len(spike_counts))\n",
        "\n",
        "\n",
        "# Initialize a new list to store the differences\n",
        "differences = [b[0]]  # Start with the first value of b\n",
        "\n",
        "# Calculate differences between consecutive elements in b\n",
        "for i in range(1, len(b)):\n",
        "    diff = b[i] - b[i-1]\n",
        "    differences.append(diff)\n",
        "differences = differences[1:]\n",
        "print(differences)"
      ],
      "metadata": {
        "id": "BTMMW_DAoy4i"
      },
      "execution_count": null,
      "outputs": []
    }
  ],
  "metadata": {
    "kernelspec": {
      "display_name": "tensor_env",
      "language": "python",
      "name": "python3"
    },
    "language_info": {
      "codemirror_mode": {
        "name": "ipython",
        "version": 3
      },
      "file_extension": ".py",
      "mimetype": "text/x-python",
      "name": "python",
      "nbconvert_exporter": "python",
      "pygments_lexer": "ipython3",
      "version": "3.10.12"
    },
    "colab": {
      "provenance": []
    }
  },
  "nbformat": 4,
  "nbformat_minor": 0
}